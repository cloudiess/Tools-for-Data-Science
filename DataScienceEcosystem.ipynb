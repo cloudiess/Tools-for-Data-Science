{
 "cells": [
  {
   "cell_type": "markdown",
   "id": "6da7703c-dfeb-465e-9984-15a26cdd0851",
   "metadata": {},
   "source": [
    "# Data Science Tools and Ecosystem"
   ]
  },
  {
   "cell_type": "markdown",
   "id": "a29dfb6c-43e7-468d-8346-1f908fb8f950",
   "metadata": {},
   "source": [
    "In this notebook, Data Science Tools and Ecosystem are summarized."
   ]
  },
  {
   "cell_type": "markdown",
   "id": "f01cb3a5-90e3-4d02-8bc0-2c9364858767",
   "metadata": {},
   "source": [
    "__Objectives__\n",
    "* Popoular coding languages\n",
    "* popular libraries\n",
    "* using headers\n",
    "* executing simple mathematic equations"
   ]
  },
  {
   "cell_type": "markdown",
   "id": "1a9ff2f7-e019-47e1-8683-cfdb956c9b38",
   "metadata": {
    "tags": []
   },
   "source": [
    "Some of the popular languages that Data Scientists use are:\n",
    "1. Python\n",
    "2. C++\n",
    "3. Julia"
   ]
  },
  {
   "cell_type": "code",
   "execution_count": null,
   "id": "2ef12a11-2c9f-4f59-8648-f11e18370a10",
   "metadata": {},
   "outputs": [],
   "source": []
  },
  {
   "cell_type": "markdown",
   "id": "9f427b3d-0d9c-45a8-b276-dce82715ce2e",
   "metadata": {},
   "source": [
    "Some of the commonly used libraries used by Data Scientists include:\n",
    "1. NumPy\n",
    "2. Pandas\n",
    "3. Matplotlib\n"
   ]
  },
  {
   "cell_type": "markdown",
   "id": "09bde703-a6c3-4a31-bcd9-fb65c888cfd0",
   "metadata": {
    "tags": []
   },
   "source": [
    "| Data Science Tools |\n",
    "| ------------------ |\n",
    "| Jupyter Notebook   |\n",
    "| Spyder             |\n",
    "| RStudio            |\n",
    "| <h3>Below are a few examples of evaluating arithmetic expressions in Python.</h3>|\n"
   ]
  },
  {
   "cell_type": "markdown",
   "id": "3009eec2-fd8b-4526-a112-894347b554a7",
   "metadata": {},
   "source": [
    "This a simple arithmetic expression to mutiply then add integers"
   ]
  },
  {
   "cell_type": "code",
   "execution_count": 5,
   "id": "c8f964a4-9f22-4bb1-863b-eba21a96eb75",
   "metadata": {
    "tags": []
   },
   "outputs": [
    {
     "data": {
      "text/plain": [
       "17"
      ]
     },
     "execution_count": 5,
     "metadata": {},
     "output_type": "execute_result"
    }
   ],
   "source": [
    "(3*4)+5"
   ]
  },
  {
   "cell_type": "code",
   "execution_count": 6,
   "id": "6dbd9eb6-3cfd-44d4-a409-b302522e3fed",
   "metadata": {
    "tags": []
   },
   "outputs": [
    {
     "data": {
      "text/plain": [
       "3.3333333333333335"
      ]
     },
     "execution_count": 6,
     "metadata": {},
     "output_type": "execute_result"
    }
   ],
   "source": [
    "# This will convert 200 minutes to hours by diving by 60.\n",
    "200/60"
   ]
  },
  {
   "cell_type": "markdown",
   "id": "0aaac73b-b1eb-4b16-9804-3285ee1b0c16",
   "metadata": {},
   "source": [
    "## Author\n",
    "H. Wilcken"
   ]
  },
  {
   "cell_type": "code",
   "execution_count": null,
   "id": "7f5e0a1c-226f-41e0-b104-40d4f68b2e3f",
   "metadata": {},
   "outputs": [],
   "source": []
  }
 ],
 "metadata": {
  "kernelspec": {
   "display_name": "Python",
   "language": "python",
   "name": "conda-env-python-py"
  },
  "language_info": {
   "codemirror_mode": {
    "name": "ipython",
    "version": 3
   },
   "file_extension": ".py",
   "mimetype": "text/x-python",
   "name": "python",
   "nbconvert_exporter": "python",
   "pygments_lexer": "ipython3",
   "version": "3.7.12"
  }
 },
 "nbformat": 4,
 "nbformat_minor": 5
}
